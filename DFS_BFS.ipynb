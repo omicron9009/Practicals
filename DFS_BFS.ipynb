{
 "cells": [
  {
   "cell_type": "code",
   "execution_count": 3,
   "id": "2306aeb1",
   "metadata": {},
   "outputs": [
    {
     "name": "stdout",
     "output_type": "stream",
     "text": [
      "DFS Traversal: 2 0 1 \n"
     ]
    }
   ],
   "source": [
    "def dfs(matrix, node, visited):\n",
    "    print(node, end=\" \")\n",
    "    visited[node] = True\n",
    "    for i in range(len(matrix)):\n",
    "        if matrix[node][i] == 1 and not visited[i]:\n",
    "            dfs(matrix, i, visited)\n",
    "\n",
    "\n",
    "adj_matrix = [\n",
    "    [0, 1, 0],\n",
    "    [0, 0, 1],\n",
    "    [1, 0, 0]\n",
    "]\n",
    "\n",
    "\n",
    "visited = [False] * len(adj_matrix)\n",
    "print(\"DFS Traversal:\", end=\" \")\n",
    "dfs(adj_matrix, 2, visited)\n",
    "print()\n"
   ]
  },
  {
   "cell_type": "code",
   "execution_count": 4,
   "id": "983e9abd",
   "metadata": {},
   "outputs": [
    {
     "name": "stdout",
     "output_type": "stream",
     "text": [
      "BFS Traversal: 2 0 1 \n"
     ]
    }
   ],
   "source": [
    "from collections import deque\n",
    "\n",
    "adj_matrix = [\n",
    "    [0, 1, 0],\n",
    "    [0, 0, 1],\n",
    "    [1, 0, 1]\n",
    "]\n",
    "\n",
    "def bfs(matrix, start):\n",
    "    n = len(matrix)\n",
    "    visited = [False] * n\n",
    "    queue = deque([start])\n",
    "    visited[start] = True\n",
    "\n",
    "    print(\"BFS Traversal:\", end=\" \")\n",
    "    while queue:\n",
    "        node = queue.popleft()\n",
    "        print(node, end=\" \")\n",
    "        for i in range(n):\n",
    "            if matrix[node][i] == 1 and not visited[i]:\n",
    "                queue.append(i)\n",
    "                visited[i] = True\n",
    "    print()\n",
    "\n",
    "\n",
    "bfs(adj_matrix, 2)\n"
   ]
  }
 ],
 "metadata": {
  "kernelspec": {
   "display_name": "Python 3",
   "language": "python",
   "name": "python3"
  },
  "language_info": {
   "codemirror_mode": {
    "name": "ipython",
    "version": 3
   },
   "file_extension": ".py",
   "mimetype": "text/x-python",
   "name": "python",
   "nbconvert_exporter": "python",
   "pygments_lexer": "ipython3",
   "version": "3.11.9"
  }
 },
 "nbformat": 4,
 "nbformat_minor": 5
}
