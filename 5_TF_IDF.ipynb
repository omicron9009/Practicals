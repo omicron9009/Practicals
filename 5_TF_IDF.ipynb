{
 "cells": [
  {
   "cell_type": "code",
   "execution_count": null,
   "id": "88319326",
   "metadata": {},
   "outputs": [
    {
     "name": "stdout",
     "output_type": "stream",
     "text": [
      "[[0.34520502 0.5844829  0.         0.44451431 0.         0.\n",
      "  0.         0.         0.         0.         0.         0.5844829 ]\n",
      " [0.26607496 0.         0.         0.34261996 0.         0.45050407\n",
      "  0.45050407 0.         0.45050407 0.45050407 0.         0.        ]\n",
      " [0.28321692 0.         0.47952794 0.         0.47952794 0.\n",
      "  0.         0.47952794 0.         0.         0.47952794 0.        ]]\n",
      "['ai' 'future' 'includes' 'is' 'language' 'learning' 'machine' 'natural'\n",
      " 'of' 'part' 'processing' 'the']\n"
     ]
    }
   ],
   "source": [
    "from sklearn.feature_extraction.text import TfidfVectorizer\n",
    "\n",
    "docs = [\n",
    "    \"AI is the future.\",\n",
    "    \"Machine learning is part of AI.\",\n",
    "    \"AI includes natural language processing.\"\n",
    "]\n",
    "\n",
    "tfidf = TfidfVectorizer()\n",
    "\n",
    "result = tfidf.fit_transform(docs)\n",
    "\n",
    "print(result.toarray())\n",
    "\n",
    "print(tfidf.get_feature_names_out())"
   ]
  }
 ],
 "metadata": {
  "kernelspec": {
   "display_name": "Python 3",
   "language": "python",
   "name": "python3"
  },
  "language_info": {
   "codemirror_mode": {
    "name": "ipython",
    "version": 3
   },
   "file_extension": ".py",
   "mimetype": "text/x-python",
   "name": "python",
   "nbconvert_exporter": "python",
   "pygments_lexer": "ipython3",
   "version": "3.11.9"
  }
 },
 "nbformat": 4,
 "nbformat_minor": 5
}
