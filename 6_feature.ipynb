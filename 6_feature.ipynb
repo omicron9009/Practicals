{
 "cells": [
  {
   "cell_type": "code",
   "execution_count": 1,
   "id": "88319326",
   "metadata": {},
   "outputs": [
    {
     "name": "stdout",
     "output_type": "stream",
     "text": [
      "Predictions: [1 1 0 0 1 0]\n"
     ]
    }
   ],
   "source": [
    "# PRACTICAL 6 - FEATURE EXTRACTION AND ANALYSIS TECHNIQUES (NAIVE-BAYES)\n",
    "\n",
    "from sklearn.feature_extraction.text import TfidfVectorizer , CountVectorizer\n",
    "from sklearn.naive_bayes import MultinomialNB\n",
    "\n",
    "# Text data and labels (1 = positive, 0 = negative)\n",
    "texts = [\"Good product\", \"I love it\", \"Very bad\", \"Hate this\", \"Amazing\", \"Worst ever\"]\n",
    "labels = [1, 1, 0, 0, 1, 0]\n",
    "\n",
    "\n",
    "tfidf = CountVectorizer()\n",
    "features = tfidf.fit_transform(texts)\n",
    "\n",
    "\n",
    "model = MultinomialNB()\n",
    "model.fit(features, labels)\n",
    "\n",
    "\n",
    "pred = model.predict(features)\n",
    "print(\"Predictions:\", pred)"
   ]
  }
 ],
 "metadata": {
  "kernelspec": {
   "display_name": "Python 3",
   "language": "python",
   "name": "python3"
  },
  "language_info": {
   "codemirror_mode": {
    "name": "ipython",
    "version": 3
   },
   "file_extension": ".py",
   "mimetype": "text/x-python",
   "name": "python",
   "nbconvert_exporter": "python",
   "pygments_lexer": "ipython3",
   "version": "3.11.9"
  }
 },
 "nbformat": 4,
 "nbformat_minor": 5
}
