{
 "cells": [
  {
   "cell_type": "code",
   "execution_count": 2,
   "id": "e6681199",
   "metadata": {},
   "outputs": [
    {
     "name": "stdout",
     "output_type": "stream",
     "text": [
      "[0]\n"
     ]
    }
   ],
   "source": [
    "from sklearn.feature_extraction.text import CountVectorizer , TfidfVectorizer\n",
    "from sklearn.naive_bayes import MultinomialNB\n",
    "\n",
    "texts = [\"Free money\", \"Call me now\", \"Let's meet\", \"You won a prize\"]\n",
    "labels = [1, 0, 0, 1]  # 1 = spam, 0 = not spam\n",
    "\n",
    "vec = TfidfVectorizer()\n",
    "X = vec.fit_transform(texts)\n",
    "\n",
    "model = MultinomialNB()\n",
    "model.fit(X, labels)\n",
    "\n",
    "test = [\"Meet me tomorrow\"]\n",
    "\n",
    "test_X = vec.transform(test)\n",
    "\n",
    "pred = model.predict(test_X)\n",
    "\n",
    "print(pred)"
   ]
  },
  {
   "cell_type": "code",
   "execution_count": null,
   "id": "599c725b",
   "metadata": {},
   "outputs": [],
   "source": []
  }
 ],
 "metadata": {
  "kernelspec": {
   "display_name": "Python 3",
   "language": "python",
   "name": "python3"
  },
  "language_info": {
   "codemirror_mode": {
    "name": "ipython",
    "version": 3
   },
   "file_extension": ".py",
   "mimetype": "text/x-python",
   "name": "python",
   "nbconvert_exporter": "python",
   "pygments_lexer": "ipython3",
   "version": "3.11.9"
  }
 },
 "nbformat": 4,
 "nbformat_minor": 5
}
